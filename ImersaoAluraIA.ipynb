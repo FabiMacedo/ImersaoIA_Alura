{
  "nbformat": 4,
  "nbformat_minor": 0,
  "metadata": {
    "colab": {
      "provenance": [],
      "authorship_tag": "ABX9TyO9K535BJsV53yShr4X6ig+",
      "include_colab_link": true
    },
    "kernelspec": {
      "name": "python3",
      "display_name": "Python 3"
    },
    "language_info": {
      "name": "python"
    }
  },
  "cells": [
    {
      "cell_type": "markdown",
      "metadata": {
        "id": "view-in-github",
        "colab_type": "text"
      },
      "source": [
        "<a href=\"https://colab.research.google.com/github/FabiMacedo/ImersaoIA_Alura/blob/main/ImersaoAluraIA.ipynb\" target=\"_parent\"><img src=\"https://colab.research.google.com/assets/colab-badge.svg\" alt=\"Open In Colab\"/></a>"
      ]
    },
    {
      "cell_type": "markdown",
      "source": [
        "Instalando o SDK do Google"
      ],
      "metadata": {
        "id": "dtxNJnS2Htl6"
      }
    },
    {
      "cell_type": "code",
      "execution_count": 1,
      "metadata": {
        "id": "s24iFBBpC6VA"
      },
      "outputs": [],
      "source": [
        "!pip install -q -U google-generativeai"
      ]
    },
    {
      "cell_type": "code",
      "source": [
        "# Import the Python SDK\n",
        "import google.generativeai as genai\n",
        "from google.colab import userdata\n",
        "api_key = userdata.get(\"SECRET_KEY\")\n",
        "genai.configure(api_key = api_key)"
      ],
      "metadata": {
        "id": "T2fboC6gNS91"
      },
      "execution_count": 2,
      "outputs": []
    },
    {
      "cell_type": "markdown",
      "source": [
        "Listar os modelos disponíveis"
      ],
      "metadata": {
        "id": "7L-p-PTbOAQ4"
      }
    },
    {
      "cell_type": "code",
      "source": [
        "for m in genai.list_models():\n",
        "  if 'generateContent' in m.supported_generation_methods:\n",
        "    print(m.name)"
      ],
      "metadata": {
        "colab": {
          "base_uri": "https://localhost:8080/",
          "height": 225
        },
        "id": "U0SI4F1xNw8t",
        "outputId": "6067ba30-0fd9-41e4-b3e7-d6fe7863379f"
      },
      "execution_count": 3,
      "outputs": [
        {
          "output_type": "stream",
          "name": "stdout",
          "text": [
            "models/gemini-1.0-pro\n",
            "models/gemini-1.0-pro-001\n",
            "models/gemini-1.0-pro-latest\n",
            "models/gemini-1.0-pro-vision-latest\n",
            "models/gemini-1.5-flash\n",
            "models/gemini-1.5-flash-001\n",
            "models/gemini-1.5-flash-latest\n",
            "models/gemini-1.5-pro\n",
            "models/gemini-1.5-pro-001\n",
            "models/gemini-1.5-pro-latest\n",
            "models/gemini-pro\n",
            "models/gemini-pro-vision\n"
          ]
        }
      ]
    },
    {
      "cell_type": "code",
      "source": [
        "generation_config = {\n",
        "  \"candidate_count\": 1,\n",
        "  \"temperature\": 0.5,\n",
        "}"
      ],
      "metadata": {
        "id": "LrhmCygsVcU6"
      },
      "execution_count": 4,
      "outputs": []
    },
    {
      "cell_type": "code",
      "source": [
        "safety_settings={\n",
        "    'HATE': 'BLOCK_NONE',\n",
        "    'HARASSMENT': 'BLOCK_NONE',\n",
        "    'SEXUAL' : 'BLOCK_NONE',\n",
        "    'DANGEROUS' : 'BLOCK_NONE'\n",
        "    }"
      ],
      "metadata": {
        "id": "HlyAaXtjWJSy"
      },
      "execution_count": 5,
      "outputs": []
    },
    {
      "cell_type": "markdown",
      "source": [
        "Inicializando o modelo"
      ],
      "metadata": {
        "id": "cBJ8YqapYFC7"
      }
    },
    {
      "cell_type": "code",
      "source": [
        "model = genai.GenerativeModel(model_name='gemini-1.0-pro',\n",
        "                                  generation_config=generation_config,\n",
        "                                  safety_settings=safety_settings,)"
      ],
      "metadata": {
        "id": "7nmuNrU3WRvG"
      },
      "execution_count": 6,
      "outputs": []
    },
    {
      "cell_type": "code",
      "source": [
        "#response = model.generate_content(\"Que empresa criou o modelo de IA Gemini?\")\n",
        "response = model.generate_content(\"Vamos aprender conteudo sobre IA. Me dê sugestões\")\n",
        "print(response.text)"
      ],
      "metadata": {
        "id": "XGKvtgHgWWJ8",
        "colab": {
          "base_uri": "https://localhost:8080/",
          "height": 659
        },
        "outputId": "3701ba3f-b4e2-4405-9685-61b15de7ee5d"
      },
      "execution_count": 7,
      "outputs": [
        {
          "output_type": "stream",
          "name": "stdout",
          "text": [
            "**Conceitos Fundamentais**\n",
            "\n",
            "* Definição de Inteligência Artificial (IA)\n",
            "* Tipos de IA: aprendizado de máquina, aprendizado profundo, redes neurais\n",
            "* Algoritmos de IA: regressão, classificação, agrupamento\n",
            "\n",
            "**Aprendizado de Máquina**\n",
            "\n",
            "* Conceitos de aprendizado supervisionado, não supervisionado e por reforço\n",
            "* Modelos de aprendizado de máquina: árvores de decisão, máquinas de vetores de suporte, redes neurais\n",
            "* Avaliação de modelos de aprendizado de máquina: precisão, recall, F1-score\n",
            "\n",
            "**Aprendizado Profundo**\n",
            "\n",
            "* Redes neurais artificiais (ANNs)\n",
            "* Arquiteturas de redes neurais: convolucionais, recorrentes, transformadores\n",
            "* Treinamento e otimização de redes neurais\n",
            "\n",
            "**Aplicações da IA**\n",
            "\n",
            "* Visão computacional: reconhecimento de imagem, processamento de vídeo\n",
            "* Processamento de linguagem natural (PNL): tradução automática, reconhecimento de fala\n",
            "* Previsão e otimização: previsão de demanda, otimização de rotas\n",
            "* Automação: automação de processos robóticos (RPA), veículos autônomos\n",
            "\n",
            "**Ética e Implicações Sociais da IA**\n",
            "\n",
            "* Viés e discriminação em sistemas de IA\n",
            "* Privacidade e segurança de dados\n",
            "* Impacto no mercado de trabalho e na sociedade\n",
            "\n",
            "**Recursos Adicionais**\n",
            "\n",
            "* Cursos online: Coursera, edX, Udemy\n",
            "* Livros: \"Inteligência Artificial: Uma Abordagem Moderna\" (Stuart Russell e Peter Norvig), \"Aprendizado Profundo\" (Ian Goodfellow, Yoshua Bengio e Aaron Courville)\n",
            "* Conferências e workshops: NeurIPS, ICML, CVPR\n",
            "* Comunidades online: Reddit (r/MachineLearning), Stack Overflow (IA)\n"
          ]
        }
      ]
    },
    {
      "cell_type": "code",
      "source": [
        "chat = model.start_chat(history=[])\n",
        "\n",
        "prompt = input('Esperando prompt: ')\n",
        "\n",
        "while prompt != \"fim\":\n",
        "  response = chat.send_message(prompt)\n",
        "  print(\"Resposta:\", response.text, '\\n\\n')\n",
        "  prompt = input('Esperando prompt: ')"
      ],
      "metadata": {
        "id": "XTSRR8r_Wf9f",
        "colab": {
          "base_uri": "https://localhost:8080/",
          "height": 520
        },
        "outputId": "bdf74577-ceac-4305-a96a-c7ca8176a398"
      },
      "execution_count": 8,
      "outputs": [
        {
          "name": "stdout",
          "output_type": "stream",
          "text": [
            "Esperando prompt: Qual a capital do Japão?\n",
            "Resposta: Tóquio \n",
            "\n",
            "\n",
            "Esperando prompt: Qual é a comida típica deste país?\n",
            "Resposta: Sushi \n",
            "\n",
            "\n",
            "Esperando prompt: Meu primo nasceu nesta cidade. Qual a nacionalidade dele?\n",
            "Resposta: Japonesa \n",
            "\n",
            "\n",
            "Esperando prompt: Qual é a população desta cidade?\n",
            "Resposta: Não tenho informações suficientes para responder a esta pergunta. Você pode fornecer o nome da cidade? \n",
            "\n",
            "\n",
            "Esperando prompt: De qual cidade estamos falando?\n",
            "Resposta: Você não forneceu o nome da cidade na sua pergunta anterior. Por favor, forneça o nome da cidade para que eu possa fornecer a população. \n",
            "\n",
            "\n",
            "Esperando prompt: Existe sim uma cidade no contexto. Qual seria?\n",
            "Resposta: Não há nenhuma cidade mencionada no contexto que você forneceu. Por favor, forneça o nome da cidade para que eu possa fornecer a população. \n",
            "\n",
            "\n",
            "Esperando prompt: Eu te perguntei qual é a capital do Japão, não foi? Tóquio é uma cidade que estava no contexto da conversa\n",
            "Resposta: Sim, Tóquio é a capital do Japão. De acordo com as estimativas de 2023, a população de Tóquio é de aproximadamente **9,2 milhões de habitantes**. \n",
            "\n",
            "\n",
            "Esperando prompt: fim\n"
          ]
        }
      ]
    },
    {
      "cell_type": "code",
      "source": [
        "chat"
      ],
      "metadata": {
        "id": "80I2pa_AWmN8",
        "colab": {
          "base_uri": "https://localhost:8080/"
        },
        "outputId": "c1bb9e09-100c-4500-9d53-4545f4e4c03e"
      },
      "execution_count": 9,
      "outputs": [
        {
          "output_type": "execute_result",
          "data": {
            "text/plain": [
              "ChatSession(\n",
              "    model=genai.GenerativeModel(\n",
              "        model_name='models/gemini-1.0-pro',\n",
              "        generation_config={'candidate_count': 1, 'temperature': 0.5},\n",
              "        safety_settings={<HarmCategory.HARM_CATEGORY_HATE_SPEECH: 8>: <HarmBlockThreshold.BLOCK_NONE: 4>, <HarmCategory.HARM_CATEGORY_HARASSMENT: 7>: <HarmBlockThreshold.BLOCK_NONE: 4>, <HarmCategory.HARM_CATEGORY_SEXUALLY_EXPLICIT: 9>: <HarmBlockThreshold.BLOCK_NONE: 4>, <HarmCategory.HARM_CATEGORY_DANGEROUS_CONTENT: 10>: <HarmBlockThreshold.BLOCK_NONE: 4>},\n",
              "        tools=None,\n",
              "        system_instruction=None,\n",
              "    ),\n",
              "    history=[glm.Content({'parts': [{'text': 'Qual a capital do Japão?'}], 'role': 'user'}), glm.Content({'parts': [{'text': 'Tóquio'}], 'role': 'model'}), glm.Content({'parts': [{'text': 'Qual é a com...a deste país?'}], 'role': 'user'}), glm.Content({'parts': [{'text': 'Sushi'}], 'role': 'model'}), glm.Content({'parts': [{'text': 'Meu primo na...alidade dele?'}], 'role': 'user'}), glm.Content({'parts': [{'text': 'Japonesa'}], 'role': 'model'}), glm.Content({'parts': [{'text': 'Qual é a pop...desta cidade?'}], 'role': 'user'}), glm.Content({'parts': [{'text': 'Não tenho in...me da cidade?'}], 'role': 'model'}), glm.Content({'parts': [{'text': 'De qual cida...amos falando?'}], 'role': 'user'}), glm.Content({'parts': [{'text': 'Você não for... a população.'}], 'role': 'model'}), glm.Content({'parts': [{'text': 'Existe sim u.... Qual seria?'}], 'role': 'user'}), glm.Content({'parts': [{'text': 'Não há nenhu... a população.'}], 'role': 'model'}), glm.Content({'parts': [{'text': 'Eu te pergun...o da conversa'}], 'role': 'user'}), glm.Content({'parts': [{'text': 'Sim, Tóquio ...habitantes**.'}], 'role': 'model'})]\n",
              ")"
            ]
          },
          "metadata": {},
          "execution_count": 9
        }
      ]
    },
    {
      "cell_type": "code",
      "source": [
        "chat.history"
      ],
      "metadata": {
        "id": "HDqyYqyJWnjD",
        "colab": {
          "base_uri": "https://localhost:8080/"
        },
        "outputId": "4a87d86f-05c7-422a-bd3f-f6496d95b3ce"
      },
      "execution_count": 10,
      "outputs": [
        {
          "output_type": "execute_result",
          "data": {
            "text/plain": [
              "[parts {\n",
              "   text: \"Qual a capital do Jap\\303\\243o?\"\n",
              " }\n",
              " role: \"user\",\n",
              " parts {\n",
              "   text: \"T\\303\\263quio\"\n",
              " }\n",
              " role: \"model\",\n",
              " parts {\n",
              "   text: \"Qual \\303\\251 a comida t\\303\\255pica deste pa\\303\\255s?\"\n",
              " }\n",
              " role: \"user\",\n",
              " parts {\n",
              "   text: \"Sushi\"\n",
              " }\n",
              " role: \"model\",\n",
              " parts {\n",
              "   text: \"Meu primo nasceu nesta cidade. Qual a nacionalidade dele?\"\n",
              " }\n",
              " role: \"user\",\n",
              " parts {\n",
              "   text: \"Japonesa\"\n",
              " }\n",
              " role: \"model\",\n",
              " parts {\n",
              "   text: \"Qual \\303\\251 a popula\\303\\247\\303\\243o desta cidade?\"\n",
              " }\n",
              " role: \"user\",\n",
              " parts {\n",
              "   text: \"N\\303\\243o tenho informa\\303\\247\\303\\265es suficientes para responder a esta pergunta. Voc\\303\\252 pode fornecer o nome da cidade?\"\n",
              " }\n",
              " role: \"model\",\n",
              " parts {\n",
              "   text: \"De qual cidade estamos falando?\"\n",
              " }\n",
              " role: \"user\",\n",
              " parts {\n",
              "   text: \"Voc\\303\\252 n\\303\\243o forneceu o nome da cidade na sua pergunta anterior. Por favor, forne\\303\\247a o nome da cidade para que eu possa fornecer a popula\\303\\247\\303\\243o.\"\n",
              " }\n",
              " role: \"model\",\n",
              " parts {\n",
              "   text: \"Existe sim uma cidade no contexto. Qual seria?\"\n",
              " }\n",
              " role: \"user\",\n",
              " parts {\n",
              "   text: \"N\\303\\243o h\\303\\241 nenhuma cidade mencionada no contexto que voc\\303\\252 forneceu. Por favor, forne\\303\\247a o nome da cidade para que eu possa fornecer a popula\\303\\247\\303\\243o.\"\n",
              " }\n",
              " role: \"model\",\n",
              " parts {\n",
              "   text: \"Eu te perguntei qual \\303\\251 a capital do Jap\\303\\243o, n\\303\\243o foi? T\\303\\263quio \\303\\251 uma cidade que estava no contexto da conversa\"\n",
              " }\n",
              " role: \"user\",\n",
              " parts {\n",
              "   text: \"Sim, T\\303\\263quio \\303\\251 a capital do Jap\\303\\243o. De acordo com as estimativas de 2023, a popula\\303\\247\\303\\243o de T\\303\\263quio \\303\\251 de aproximadamente **9,2 milh\\303\\265es de habitantes**.\"\n",
              " }\n",
              " role: \"model\"]"
            ]
          },
          "metadata": {},
          "execution_count": 10
        }
      ]
    },
    {
      "cell_type": "code",
      "source": [],
      "metadata": {
        "id": "FrictC8xWq5X"
      },
      "execution_count": 10,
      "outputs": []
    },
    {
      "cell_type": "code",
      "source": [
        "#Melhorando a visualização\n",
        "#Código disponível em https://ai.google.dev/tutorials/python_quickstart#import_packages\n",
        "import textwrap\n",
        "from IPython.display import display\n",
        "from IPython.display import Markdown\n",
        "\n",
        "def to_markdown(text):\n",
        "  text = text.replace('•', '  *')\n",
        "  return Markdown(textwrap.indent(text, '> ', predicate=lambda _: True))\n",
        "\n",
        "#Imprimindo o histórico\n",
        "for message in chat.history:\n",
        "  display(to_markdown(f'**{message.role}**: {message.parts[0].text}'))\n",
        "  print('-------------------------------------------')"
      ],
      "metadata": {
        "id": "nYxNDLKWWvRn"
      },
      "execution_count": null,
      "outputs": []
    }
  ]
}